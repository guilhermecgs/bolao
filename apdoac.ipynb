{
  "nbformat": 4,
  "nbformat_minor": 0,
  "metadata": {
    "colab": {
      "name": "apdoac.ipynb",
      "provenance": [],
      "include_colab_link": true
    },
    "kernelspec": {
      "name": "python3",
      "display_name": "Python 3"
    },
    "widgets": {
      "application/vnd.jupyter.widget-state+json": {
        "1caf0faf5bca4a569817a1a96ba02ebb": {
          "model_module": "@jupyter-widgets/controls",
          "model_name": "HBoxModel",
          "state": {
            "_view_name": "HBoxView",
            "_dom_classes": [],
            "_model_name": "HBoxModel",
            "_view_module": "@jupyter-widgets/controls",
            "_model_module_version": "1.5.0",
            "_view_count": null,
            "_view_module_version": "1.5.0",
            "box_style": "",
            "layout": "IPY_MODEL_57e2a2f7c82b4d65848a24ac98512146",
            "_model_module": "@jupyter-widgets/controls",
            "children": [
              "IPY_MODEL_7891b2c873854b1ba169c0cd1fca3686",
              "IPY_MODEL_4376eb4f268843b3a4145611f5151332"
            ]
          }
        },
        "57e2a2f7c82b4d65848a24ac98512146": {
          "model_module": "@jupyter-widgets/base",
          "model_name": "LayoutModel",
          "state": {
            "_view_name": "LayoutView",
            "grid_template_rows": null,
            "right": null,
            "justify_content": null,
            "_view_module": "@jupyter-widgets/base",
            "overflow": null,
            "_model_module_version": "1.2.0",
            "_view_count": null,
            "flex_flow": null,
            "width": null,
            "min_width": null,
            "border": null,
            "align_items": null,
            "bottom": null,
            "_model_module": "@jupyter-widgets/base",
            "top": null,
            "grid_column": null,
            "overflow_y": null,
            "overflow_x": null,
            "grid_auto_flow": null,
            "grid_area": null,
            "grid_template_columns": null,
            "flex": null,
            "_model_name": "LayoutModel",
            "justify_items": null,
            "grid_row": null,
            "max_height": null,
            "align_content": null,
            "visibility": null,
            "align_self": null,
            "height": null,
            "min_height": null,
            "padding": null,
            "grid_auto_rows": null,
            "grid_gap": null,
            "max_width": null,
            "order": null,
            "_view_module_version": "1.2.0",
            "grid_template_areas": null,
            "object_position": null,
            "object_fit": null,
            "grid_auto_columns": null,
            "margin": null,
            "display": null,
            "left": null
          }
        },
        "7891b2c873854b1ba169c0cd1fca3686": {
          "model_module": "@jupyter-widgets/controls",
          "model_name": "FloatProgressModel",
          "state": {
            "_view_name": "ProgressView",
            "style": "IPY_MODEL_0a7033a2c3a946ae81e8a3377de44381",
            "_dom_classes": [],
            "description": "100%",
            "_model_name": "FloatProgressModel",
            "bar_style": "success",
            "max": 1,
            "_view_module": "@jupyter-widgets/controls",
            "_model_module_version": "1.5.0",
            "value": 1,
            "_view_count": null,
            "_view_module_version": "1.5.0",
            "orientation": "horizontal",
            "min": 0,
            "description_tooltip": null,
            "_model_module": "@jupyter-widgets/controls",
            "layout": "IPY_MODEL_9702be56febe4d1aa8af9a8c74c46b4d"
          }
        },
        "4376eb4f268843b3a4145611f5151332": {
          "model_module": "@jupyter-widgets/controls",
          "model_name": "HTMLModel",
          "state": {
            "_view_name": "HTMLView",
            "style": "IPY_MODEL_04d7ac51f1574ec9aecf1b15175ebf0d",
            "_dom_classes": [],
            "description": "",
            "_model_name": "HTMLModel",
            "placeholder": "​",
            "_view_module": "@jupyter-widgets/controls",
            "_model_module_version": "1.5.0",
            "value": " 1/1 [16:34&lt;00:00, 994.17s/it]",
            "_view_count": null,
            "_view_module_version": "1.5.0",
            "description_tooltip": null,
            "_model_module": "@jupyter-widgets/controls",
            "layout": "IPY_MODEL_3fc231ceccd942fcb238e6c36652e473"
          }
        },
        "0a7033a2c3a946ae81e8a3377de44381": {
          "model_module": "@jupyter-widgets/controls",
          "model_name": "ProgressStyleModel",
          "state": {
            "_view_name": "StyleView",
            "_model_name": "ProgressStyleModel",
            "description_width": "initial",
            "_view_module": "@jupyter-widgets/base",
            "_model_module_version": "1.5.0",
            "_view_count": null,
            "_view_module_version": "1.2.0",
            "bar_color": null,
            "_model_module": "@jupyter-widgets/controls"
          }
        },
        "9702be56febe4d1aa8af9a8c74c46b4d": {
          "model_module": "@jupyter-widgets/base",
          "model_name": "LayoutModel",
          "state": {
            "_view_name": "LayoutView",
            "grid_template_rows": null,
            "right": null,
            "justify_content": null,
            "_view_module": "@jupyter-widgets/base",
            "overflow": null,
            "_model_module_version": "1.2.0",
            "_view_count": null,
            "flex_flow": null,
            "width": null,
            "min_width": null,
            "border": null,
            "align_items": null,
            "bottom": null,
            "_model_module": "@jupyter-widgets/base",
            "top": null,
            "grid_column": null,
            "overflow_y": null,
            "overflow_x": null,
            "grid_auto_flow": null,
            "grid_area": null,
            "grid_template_columns": null,
            "flex": null,
            "_model_name": "LayoutModel",
            "justify_items": null,
            "grid_row": null,
            "max_height": null,
            "align_content": null,
            "visibility": null,
            "align_self": null,
            "height": null,
            "min_height": null,
            "padding": null,
            "grid_auto_rows": null,
            "grid_gap": null,
            "max_width": null,
            "order": null,
            "_view_module_version": "1.2.0",
            "grid_template_areas": null,
            "object_position": null,
            "object_fit": null,
            "grid_auto_columns": null,
            "margin": null,
            "display": null,
            "left": null
          }
        },
        "04d7ac51f1574ec9aecf1b15175ebf0d": {
          "model_module": "@jupyter-widgets/controls",
          "model_name": "DescriptionStyleModel",
          "state": {
            "_view_name": "StyleView",
            "_model_name": "DescriptionStyleModel",
            "description_width": "",
            "_view_module": "@jupyter-widgets/base",
            "_model_module_version": "1.5.0",
            "_view_count": null,
            "_view_module_version": "1.2.0",
            "_model_module": "@jupyter-widgets/controls"
          }
        },
        "3fc231ceccd942fcb238e6c36652e473": {
          "model_module": "@jupyter-widgets/base",
          "model_name": "LayoutModel",
          "state": {
            "_view_name": "LayoutView",
            "grid_template_rows": null,
            "right": null,
            "justify_content": null,
            "_view_module": "@jupyter-widgets/base",
            "overflow": null,
            "_model_module_version": "1.2.0",
            "_view_count": null,
            "flex_flow": null,
            "width": null,
            "min_width": null,
            "border": null,
            "align_items": null,
            "bottom": null,
            "_model_module": "@jupyter-widgets/base",
            "top": null,
            "grid_column": null,
            "overflow_y": null,
            "overflow_x": null,
            "grid_auto_flow": null,
            "grid_area": null,
            "grid_template_columns": null,
            "flex": null,
            "_model_name": "LayoutModel",
            "justify_items": null,
            "grid_row": null,
            "max_height": null,
            "align_content": null,
            "visibility": null,
            "align_self": null,
            "height": null,
            "min_height": null,
            "padding": null,
            "grid_auto_rows": null,
            "grid_gap": null,
            "max_width": null,
            "order": null,
            "_view_module_version": "1.2.0",
            "grid_template_areas": null,
            "object_position": null,
            "object_fit": null,
            "grid_auto_columns": null,
            "margin": null,
            "display": null,
            "left": null
          }
        },
        "6a17497ca4c64ea4b8eb6c8012aff61f": {
          "model_module": "@jupyter-widgets/controls",
          "model_name": "HBoxModel",
          "state": {
            "_view_name": "HBoxView",
            "_dom_classes": [],
            "_model_name": "HBoxModel",
            "_view_module": "@jupyter-widgets/controls",
            "_model_module_version": "1.5.0",
            "_view_count": null,
            "_view_module_version": "1.5.0",
            "box_style": "",
            "layout": "IPY_MODEL_0813c89d432d46188220d8e99486afaf",
            "_model_module": "@jupyter-widgets/controls",
            "children": [
              "IPY_MODEL_b54ecddb4934470a95364ed7e82650ad",
              "IPY_MODEL_4f561361078e4342be47ac211b1c3106"
            ]
          }
        },
        "0813c89d432d46188220d8e99486afaf": {
          "model_module": "@jupyter-widgets/base",
          "model_name": "LayoutModel",
          "state": {
            "_view_name": "LayoutView",
            "grid_template_rows": null,
            "right": null,
            "justify_content": null,
            "_view_module": "@jupyter-widgets/base",
            "overflow": null,
            "_model_module_version": "1.2.0",
            "_view_count": null,
            "flex_flow": null,
            "width": null,
            "min_width": null,
            "border": null,
            "align_items": null,
            "bottom": null,
            "_model_module": "@jupyter-widgets/base",
            "top": null,
            "grid_column": null,
            "overflow_y": null,
            "overflow_x": null,
            "grid_auto_flow": null,
            "grid_area": null,
            "grid_template_columns": null,
            "flex": null,
            "_model_name": "LayoutModel",
            "justify_items": null,
            "grid_row": null,
            "max_height": null,
            "align_content": null,
            "visibility": null,
            "align_self": null,
            "height": null,
            "min_height": null,
            "padding": null,
            "grid_auto_rows": null,
            "grid_gap": null,
            "max_width": null,
            "order": null,
            "_view_module_version": "1.2.0",
            "grid_template_areas": null,
            "object_position": null,
            "object_fit": null,
            "grid_auto_columns": null,
            "margin": null,
            "display": null,
            "left": null
          }
        },
        "b54ecddb4934470a95364ed7e82650ad": {
          "model_module": "@jupyter-widgets/controls",
          "model_name": "FloatProgressModel",
          "state": {
            "_view_name": "ProgressView",
            "style": "IPY_MODEL_3163c7bd207545429230810b1c78155b",
            "_dom_classes": [],
            "description": "100%",
            "_model_name": "FloatProgressModel",
            "bar_style": "success",
            "max": 4,
            "_view_module": "@jupyter-widgets/controls",
            "_model_module_version": "1.5.0",
            "value": 4,
            "_view_count": null,
            "_view_module_version": "1.5.0",
            "orientation": "horizontal",
            "min": 0,
            "description_tooltip": null,
            "_model_module": "@jupyter-widgets/controls",
            "layout": "IPY_MODEL_62a350ff9f3e43f2af84ed027e3d9651"
          }
        },
        "4f561361078e4342be47ac211b1c3106": {
          "model_module": "@jupyter-widgets/controls",
          "model_name": "HTMLModel",
          "state": {
            "_view_name": "HTMLView",
            "style": "IPY_MODEL_b7b01e5ab5dd4ab9b7b47898eabba3d5",
            "_dom_classes": [],
            "description": "",
            "_model_name": "HTMLModel",
            "placeholder": "​",
            "_view_module": "@jupyter-widgets/controls",
            "_model_module_version": "1.5.0",
            "value": " 4/4 [15:42&lt;00:00, 235.63s/it]",
            "_view_count": null,
            "_view_module_version": "1.5.0",
            "description_tooltip": null,
            "_model_module": "@jupyter-widgets/controls",
            "layout": "IPY_MODEL_01670033f5204a8da4bbdb183d9abebf"
          }
        },
        "3163c7bd207545429230810b1c78155b": {
          "model_module": "@jupyter-widgets/controls",
          "model_name": "ProgressStyleModel",
          "state": {
            "_view_name": "StyleView",
            "_model_name": "ProgressStyleModel",
            "description_width": "initial",
            "_view_module": "@jupyter-widgets/base",
            "_model_module_version": "1.5.0",
            "_view_count": null,
            "_view_module_version": "1.2.0",
            "bar_color": null,
            "_model_module": "@jupyter-widgets/controls"
          }
        },
        "62a350ff9f3e43f2af84ed027e3d9651": {
          "model_module": "@jupyter-widgets/base",
          "model_name": "LayoutModel",
          "state": {
            "_view_name": "LayoutView",
            "grid_template_rows": null,
            "right": null,
            "justify_content": null,
            "_view_module": "@jupyter-widgets/base",
            "overflow": null,
            "_model_module_version": "1.2.0",
            "_view_count": null,
            "flex_flow": null,
            "width": null,
            "min_width": null,
            "border": null,
            "align_items": null,
            "bottom": null,
            "_model_module": "@jupyter-widgets/base",
            "top": null,
            "grid_column": null,
            "overflow_y": null,
            "overflow_x": null,
            "grid_auto_flow": null,
            "grid_area": null,
            "grid_template_columns": null,
            "flex": null,
            "_model_name": "LayoutModel",
            "justify_items": null,
            "grid_row": null,
            "max_height": null,
            "align_content": null,
            "visibility": null,
            "align_self": null,
            "height": null,
            "min_height": null,
            "padding": null,
            "grid_auto_rows": null,
            "grid_gap": null,
            "max_width": null,
            "order": null,
            "_view_module_version": "1.2.0",
            "grid_template_areas": null,
            "object_position": null,
            "object_fit": null,
            "grid_auto_columns": null,
            "margin": null,
            "display": null,
            "left": null
          }
        },
        "b7b01e5ab5dd4ab9b7b47898eabba3d5": {
          "model_module": "@jupyter-widgets/controls",
          "model_name": "DescriptionStyleModel",
          "state": {
            "_view_name": "StyleView",
            "_model_name": "DescriptionStyleModel",
            "description_width": "",
            "_view_module": "@jupyter-widgets/base",
            "_model_module_version": "1.5.0",
            "_view_count": null,
            "_view_module_version": "1.2.0",
            "_model_module": "@jupyter-widgets/controls"
          }
        },
        "01670033f5204a8da4bbdb183d9abebf": {
          "model_module": "@jupyter-widgets/base",
          "model_name": "LayoutModel",
          "state": {
            "_view_name": "LayoutView",
            "grid_template_rows": null,
            "right": null,
            "justify_content": null,
            "_view_module": "@jupyter-widgets/base",
            "overflow": null,
            "_model_module_version": "1.2.0",
            "_view_count": null,
            "flex_flow": null,
            "width": null,
            "min_width": null,
            "border": null,
            "align_items": null,
            "bottom": null,
            "_model_module": "@jupyter-widgets/base",
            "top": null,
            "grid_column": null,
            "overflow_y": null,
            "overflow_x": null,
            "grid_auto_flow": null,
            "grid_area": null,
            "grid_template_columns": null,
            "flex": null,
            "_model_name": "LayoutModel",
            "justify_items": null,
            "grid_row": null,
            "max_height": null,
            "align_content": null,
            "visibility": null,
            "align_self": null,
            "height": null,
            "min_height": null,
            "padding": null,
            "grid_auto_rows": null,
            "grid_gap": null,
            "max_width": null,
            "order": null,
            "_view_module_version": "1.2.0",
            "grid_template_areas": null,
            "object_position": null,
            "object_fit": null,
            "grid_auto_columns": null,
            "margin": null,
            "display": null,
            "left": null
          }
        },
        "377392a62a1840f4afb3a29f86f9891a": {
          "model_module": "@jupyter-widgets/controls",
          "model_name": "HBoxModel",
          "state": {
            "_view_name": "HBoxView",
            "_dom_classes": [],
            "_model_name": "HBoxModel",
            "_view_module": "@jupyter-widgets/controls",
            "_model_module_version": "1.5.0",
            "_view_count": null,
            "_view_module_version": "1.5.0",
            "box_style": "",
            "layout": "IPY_MODEL_547421cc0f9c4b438d09a12b3f1da2ce",
            "_model_module": "@jupyter-widgets/controls",
            "children": [
              "IPY_MODEL_54bc0d68ef4c4968b572ebb2cd371e19",
              "IPY_MODEL_f1bfb7037f2243c3be2e40af3115d732"
            ]
          }
        },
        "547421cc0f9c4b438d09a12b3f1da2ce": {
          "model_module": "@jupyter-widgets/base",
          "model_name": "LayoutModel",
          "state": {
            "_view_name": "LayoutView",
            "grid_template_rows": null,
            "right": null,
            "justify_content": null,
            "_view_module": "@jupyter-widgets/base",
            "overflow": null,
            "_model_module_version": "1.2.0",
            "_view_count": null,
            "flex_flow": null,
            "width": null,
            "min_width": null,
            "border": null,
            "align_items": null,
            "bottom": null,
            "_model_module": "@jupyter-widgets/base",
            "top": null,
            "grid_column": null,
            "overflow_y": null,
            "overflow_x": null,
            "grid_auto_flow": null,
            "grid_area": null,
            "grid_template_columns": null,
            "flex": null,
            "_model_name": "LayoutModel",
            "justify_items": null,
            "grid_row": null,
            "max_height": null,
            "align_content": null,
            "visibility": null,
            "align_self": null,
            "height": null,
            "min_height": null,
            "padding": null,
            "grid_auto_rows": null,
            "grid_gap": null,
            "max_width": null,
            "order": null,
            "_view_module_version": "1.2.0",
            "grid_template_areas": null,
            "object_position": null,
            "object_fit": null,
            "grid_auto_columns": null,
            "margin": null,
            "display": null,
            "left": null
          }
        },
        "54bc0d68ef4c4968b572ebb2cd371e19": {
          "model_module": "@jupyter-widgets/controls",
          "model_name": "FloatProgressModel",
          "state": {
            "_view_name": "ProgressView",
            "style": "IPY_MODEL_53a2dd80096f44258fa8c321865d151a",
            "_dom_classes": [],
            "description": "100%",
            "_model_name": "FloatProgressModel",
            "bar_style": "success",
            "max": 6,
            "_view_module": "@jupyter-widgets/controls",
            "_model_module_version": "1.5.0",
            "value": 6,
            "_view_count": null,
            "_view_module_version": "1.5.0",
            "orientation": "horizontal",
            "min": 0,
            "description_tooltip": null,
            "_model_module": "@jupyter-widgets/controls",
            "layout": "IPY_MODEL_18f43a79577946479b8c5effe8b597d7"
          }
        },
        "f1bfb7037f2243c3be2e40af3115d732": {
          "model_module": "@jupyter-widgets/controls",
          "model_name": "HTMLModel",
          "state": {
            "_view_name": "HTMLView",
            "style": "IPY_MODEL_8c079d2fc15a4becb27f4946e6e672d7",
            "_dom_classes": [],
            "description": "",
            "_model_name": "HTMLModel",
            "placeholder": "​",
            "_view_module": "@jupyter-widgets/controls",
            "_model_module_version": "1.5.0",
            "value": " 6/6 [15:30&lt;00:00, 155.13s/it]",
            "_view_count": null,
            "_view_module_version": "1.5.0",
            "description_tooltip": null,
            "_model_module": "@jupyter-widgets/controls",
            "layout": "IPY_MODEL_85583ee1da80431d984fc5118326e8a8"
          }
        },
        "53a2dd80096f44258fa8c321865d151a": {
          "model_module": "@jupyter-widgets/controls",
          "model_name": "ProgressStyleModel",
          "state": {
            "_view_name": "StyleView",
            "_model_name": "ProgressStyleModel",
            "description_width": "initial",
            "_view_module": "@jupyter-widgets/base",
            "_model_module_version": "1.5.0",
            "_view_count": null,
            "_view_module_version": "1.2.0",
            "bar_color": null,
            "_model_module": "@jupyter-widgets/controls"
          }
        },
        "18f43a79577946479b8c5effe8b597d7": {
          "model_module": "@jupyter-widgets/base",
          "model_name": "LayoutModel",
          "state": {
            "_view_name": "LayoutView",
            "grid_template_rows": null,
            "right": null,
            "justify_content": null,
            "_view_module": "@jupyter-widgets/base",
            "overflow": null,
            "_model_module_version": "1.2.0",
            "_view_count": null,
            "flex_flow": null,
            "width": null,
            "min_width": null,
            "border": null,
            "align_items": null,
            "bottom": null,
            "_model_module": "@jupyter-widgets/base",
            "top": null,
            "grid_column": null,
            "overflow_y": null,
            "overflow_x": null,
            "grid_auto_flow": null,
            "grid_area": null,
            "grid_template_columns": null,
            "flex": null,
            "_model_name": "LayoutModel",
            "justify_items": null,
            "grid_row": null,
            "max_height": null,
            "align_content": null,
            "visibility": null,
            "align_self": null,
            "height": null,
            "min_height": null,
            "padding": null,
            "grid_auto_rows": null,
            "grid_gap": null,
            "max_width": null,
            "order": null,
            "_view_module_version": "1.2.0",
            "grid_template_areas": null,
            "object_position": null,
            "object_fit": null,
            "grid_auto_columns": null,
            "margin": null,
            "display": null,
            "left": null
          }
        },
        "8c079d2fc15a4becb27f4946e6e672d7": {
          "model_module": "@jupyter-widgets/controls",
          "model_name": "DescriptionStyleModel",
          "state": {
            "_view_name": "StyleView",
            "_model_name": "DescriptionStyleModel",
            "description_width": "",
            "_view_module": "@jupyter-widgets/base",
            "_model_module_version": "1.5.0",
            "_view_count": null,
            "_view_module_version": "1.2.0",
            "_model_module": "@jupyter-widgets/controls"
          }
        },
        "85583ee1da80431d984fc5118326e8a8": {
          "model_module": "@jupyter-widgets/base",
          "model_name": "LayoutModel",
          "state": {
            "_view_name": "LayoutView",
            "grid_template_rows": null,
            "right": null,
            "justify_content": null,
            "_view_module": "@jupyter-widgets/base",
            "overflow": null,
            "_model_module_version": "1.2.0",
            "_view_count": null,
            "flex_flow": null,
            "width": null,
            "min_width": null,
            "border": null,
            "align_items": null,
            "bottom": null,
            "_model_module": "@jupyter-widgets/base",
            "top": null,
            "grid_column": null,
            "overflow_y": null,
            "overflow_x": null,
            "grid_auto_flow": null,
            "grid_area": null,
            "grid_template_columns": null,
            "flex": null,
            "_model_name": "LayoutModel",
            "justify_items": null,
            "grid_row": null,
            "max_height": null,
            "align_content": null,
            "visibility": null,
            "align_self": null,
            "height": null,
            "min_height": null,
            "padding": null,
            "grid_auto_rows": null,
            "grid_gap": null,
            "max_width": null,
            "order": null,
            "_view_module_version": "1.2.0",
            "grid_template_areas": null,
            "object_position": null,
            "object_fit": null,
            "grid_auto_columns": null,
            "margin": null,
            "display": null,
            "left": null
          }
        }
      }
    }
  },
  "cells": [
    {
      "cell_type": "markdown",
      "metadata": {
        "id": "view-in-github",
        "colab_type": "text"
      },
      "source": [
        "<a href=\"https://colab.research.google.com/github/guilhermecgs/bolao/blob/master/apdoac.ipynb\" target=\"_parent\"><img src=\"https://colab.research.google.com/assets/colab-badge.svg\" alt=\"Open In Colab\"/></a>"
      ]
    },
    {
      "cell_type": "markdown",
      "metadata": {
        "id": "je0aTmO6xLlR",
        "colab_type": "text"
      },
      "source": [
        "Dados da tese de mestrado APDOAC"
      ]
    },
    {
      "cell_type": "code",
      "metadata": {
        "id": "gakCORJKwvNr",
        "colab_type": "code",
        "colab": {
          "base_uri": "https://localhost:8080/",
          "height": 68
        },
        "outputId": "e9dfe8f9-ecdb-46d3-f27b-5995b3ef6035"
      },
      "source": [
        "!npx degit guilhermecgs/apdoac/dados -f"
      ],
      "execution_count": 2,
      "outputs": [
        {
          "output_type": "stream",
          "text": [
            "\u001b[K\u001b[?25hnpx: installed 1 in 1.075s\n",
            "\u001b[36m> destination directory is not empty. Using --force, continuing\u001b[39m\n",
            "\u001b[36m> cloned \u001b[1mguilhermecgs/apdoac\u001b[22m#\u001b[1mmaster\u001b[22m\u001b[39m\n"
          ],
          "name": "stdout"
        }
      ]
    },
    {
      "cell_type": "code",
      "metadata": {
        "id": "9yrEhS_0w1CG",
        "colab_type": "code",
        "colab": {
          "base_uri": "https://localhost:8080/",
          "height": 649
        },
        "outputId": "1a0a1a32-ac5d-4392-df72-239b13e4fd40"
      },
      "source": [
        "! pip install pandas\n",
        "! pip install tqdm\n",
        "! pip install xlsx2csv\n",
        "! pip install genderbr\n",
        "! pip install --upgrade genderbr"
      ],
      "execution_count": 3,
      "outputs": [
        {
          "output_type": "stream",
          "text": [
            "Requirement already satisfied: pandas in /usr/local/lib/python3.6/dist-packages (1.0.5)\n",
            "Requirement already satisfied: numpy>=1.13.3 in /usr/local/lib/python3.6/dist-packages (from pandas) (1.18.5)\n",
            "Requirement already satisfied: python-dateutil>=2.6.1 in /usr/local/lib/python3.6/dist-packages (from pandas) (2.8.1)\n",
            "Requirement already satisfied: pytz>=2017.2 in /usr/local/lib/python3.6/dist-packages (from pandas) (2018.9)\n",
            "Requirement already satisfied: six>=1.5 in /usr/local/lib/python3.6/dist-packages (from python-dateutil>=2.6.1->pandas) (1.15.0)\n",
            "Requirement already satisfied: tqdm in /usr/local/lib/python3.6/dist-packages (4.41.1)\n",
            "Collecting xlsx2csv\n",
            "\u001b[?25l  Downloading https://files.pythonhosted.org/packages/ac/8c/96123b503a4d986b56278ad87aa70e1c6528d775d15380007bf1abfcf7b8/xlsx2csv-0.7.7.tar.gz (237kB)\n",
            "\u001b[K     |████████████████████████████████| 245kB 2.8MB/s \n",
            "\u001b[?25hBuilding wheels for collected packages: xlsx2csv\n",
            "  Building wheel for xlsx2csv (setup.py) ... \u001b[?25l\u001b[?25hdone\n",
            "  Created wheel for xlsx2csv: filename=xlsx2csv-0.7.7-cp36-none-any.whl size=44870 sha256=d2a98f161303f764d1d1ecb2c68273ae824c21670841159df5ba52082994f4e5\n",
            "  Stored in directory: /root/.cache/pip/wheels/9f/d1/6e/1b6cbf7dcfe72469d95f2cd331a373e8e2fde30a5946d61dfd\n",
            "Successfully built xlsx2csv\n",
            "Installing collected packages: xlsx2csv\n",
            "Successfully installed xlsx2csv-0.7.7\n",
            "Collecting genderbr\n",
            "  Downloading https://files.pythonhosted.org/packages/81/3e/a61a53dde1ba180147da8e8de026db050c20fb4094c45d9ab4773d74f936/genderbr-0.1.2.tar.gz\n",
            "Requirement already satisfied: requests in /usr/local/lib/python3.6/dist-packages (from genderbr) (2.23.0)\n",
            "Requirement already satisfied: urllib3!=1.25.0,!=1.25.1,<1.26,>=1.21.1 in /usr/local/lib/python3.6/dist-packages (from requests->genderbr) (1.24.3)\n",
            "Requirement already satisfied: certifi>=2017.4.17 in /usr/local/lib/python3.6/dist-packages (from requests->genderbr) (2020.6.20)\n",
            "Requirement already satisfied: idna<3,>=2.5 in /usr/local/lib/python3.6/dist-packages (from requests->genderbr) (2.10)\n",
            "Requirement already satisfied: chardet<4,>=3.0.2 in /usr/local/lib/python3.6/dist-packages (from requests->genderbr) (3.0.4)\n",
            "Building wheels for collected packages: genderbr\n",
            "  Building wheel for genderbr (setup.py) ... \u001b[?25l\u001b[?25hdone\n",
            "  Created wheel for genderbr: filename=genderbr-0.1.2-cp36-none-any.whl size=2268 sha256=a12621b94aeb31cf76b37037cd355bc6948618dc9ab0266de9fc1c93fb49aa16\n",
            "  Stored in directory: /root/.cache/pip/wheels/40/72/3c/16afd51aa7b8d98204f781c2854ff8b37623665e6e9fcc20f6\n",
            "Successfully built genderbr\n",
            "Installing collected packages: genderbr\n",
            "Successfully installed genderbr-0.1.2\n",
            "Requirement already up-to-date: genderbr in /usr/local/lib/python3.6/dist-packages (0.1.2)\n",
            "Requirement already satisfied, skipping upgrade: requests in /usr/local/lib/python3.6/dist-packages (from genderbr) (2.23.0)\n",
            "Requirement already satisfied, skipping upgrade: certifi>=2017.4.17 in /usr/local/lib/python3.6/dist-packages (from requests->genderbr) (2020.6.20)\n",
            "Requirement already satisfied, skipping upgrade: urllib3!=1.25.0,!=1.25.1,<1.26,>=1.21.1 in /usr/local/lib/python3.6/dist-packages (from requests->genderbr) (1.24.3)\n",
            "Requirement already satisfied, skipping upgrade: idna<3,>=2.5 in /usr/local/lib/python3.6/dist-packages (from requests->genderbr) (2.10)\n",
            "Requirement already satisfied, skipping upgrade: chardet<4,>=3.0.2 in /usr/local/lib/python3.6/dist-packages (from requests->genderbr) (3.0.4)\n"
          ],
          "name": "stdout"
        }
      ]
    },
    {
      "cell_type": "code",
      "metadata": {
        "id": "vCXgTMZbzBgl",
        "colab_type": "code",
        "colab": {}
      },
      "source": [
        "import pandas as pd\n",
        "import numpy as np\n",
        "from tqdm.notebook import trange, tqdm\n",
        "from IPython.display import display, HTML\n"
      ],
      "execution_count": 75,
      "outputs": []
    },
    {
      "cell_type": "code",
      "metadata": {
        "id": "OvZIOJ0mMRB1",
        "colab_type": "code",
        "colab": {}
      },
      "source": [
        "df_cnpq_2002_2019 = pd.read_excel('cnpq_2002-2019_pq.xlsx')\n",
        "\n",
        "def primeiro_nome(nome):\n",
        "  return nome.split(' ')[0]\n",
        "\n",
        "df_cnpq_2002_2019['primeiro_nome'] = df_cnpq_2002_2019['Beneficiário'].apply(lambda nome: primeiro_nome(nome))\n",
        "\n",
        "primeiros_nomes_unicos = df_cnpq_2002_2019['primeiro_nome'].unique()\n",
        "\n",
        "from genderbr import get_gender\n",
        "\n",
        "result = {}\n",
        "for primeiro_nome in tqdm(primeiros_nomes_unicos):\n",
        "  result[primeiro_nome] = str(get_gender(primeiro_nome))\n",
        "  print(primeiro_nome + result[primeiro_nome])\n",
        "\n",
        "df_cnpq_2002_2019['sexo'] = df_cnpq_2002_2019['primeiro_nome'].apply(lambda primeiro_nome: result[primeiro_nome])\n",
        "\n",
        "df_cnpq_2002_2019.to_excel('cnpq_2002-2019_pq_com_sexo.xlsx')\n",
        "df_cnpq_2002_2019.to_csv('cnpq_2002-2019_pq_com_sexo.csv')\n"
      ],
      "execution_count": null,
      "outputs": []
    },
    {
      "cell_type": "code",
      "metadata": {
        "id": "llf6ahCazebQ",
        "colab_type": "code",
        "colab": {}
      },
      "source": [
        "import os\n",
        "import glob\n",
        "from tqdm.notebook import trange, tqdm\n",
        "from xlsx2csv import Xlsx2csv\n",
        "  \n",
        "\n",
        "def concat(pathname):\n",
        "  arquivos = glob.glob(pathname)\n",
        "  print('Unindo arquivos:')\n",
        "  print('\\n    -'.join(arquivos))\n",
        "\n",
        "  dfs = []\n",
        "  for arquivo in tqdm(arquivos):\n",
        "    arquivo_csv = arquivo.replace('xlsx', 'csv')\n",
        "    if not os.path.isfile(arquivo_csv):\n",
        "      Xlsx2csv(arquivo, outputencoding=\"utf-8\").convert(arquivo.replace('xlsx', 'csv'))\n",
        "\n",
        "    dfs.append(pd.read_csv(arquivo_csv))\n",
        "    \n",
        "  return pd.concat(dfs)\n"
      ],
      "execution_count": 4,
      "outputs": []
    },
    {
      "cell_type": "code",
      "metadata": {
        "id": "Bhc_f0hu3m5q",
        "colab_type": "code",
        "colab": {
          "base_uri": "https://localhost:8080/",
          "height": 490,
          "referenced_widgets": [
            "1caf0faf5bca4a569817a1a96ba02ebb",
            "57e2a2f7c82b4d65848a24ac98512146",
            "7891b2c873854b1ba169c0cd1fca3686",
            "4376eb4f268843b3a4145611f5151332",
            "0a7033a2c3a946ae81e8a3377de44381",
            "9702be56febe4d1aa8af9a8c74c46b4d",
            "04d7ac51f1574ec9aecf1b15175ebf0d",
            "3fc231ceccd942fcb238e6c36652e473",
            "6a17497ca4c64ea4b8eb6c8012aff61f",
            "0813c89d432d46188220d8e99486afaf",
            "b54ecddb4934470a95364ed7e82650ad",
            "4f561361078e4342be47ac211b1c3106",
            "3163c7bd207545429230810b1c78155b",
            "62a350ff9f3e43f2af84ed027e3d9651",
            "b7b01e5ab5dd4ab9b7b47898eabba3d5",
            "01670033f5204a8da4bbdb183d9abebf",
            "377392a62a1840f4afb3a29f86f9891a",
            "547421cc0f9c4b438d09a12b3f1da2ce",
            "54bc0d68ef4c4968b572ebb2cd371e19",
            "f1bfb7037f2243c3be2e40af3115d732",
            "53a2dd80096f44258fa8c321865d151a",
            "18f43a79577946479b8c5effe8b597d7",
            "8c079d2fc15a4becb27f4946e6e672d7",
            "85583ee1da80431d984fc5118326e8a8"
          ]
        },
        "outputId": "1ca4f292-49b7-42af-b1e3-4548fec343bb"
      },
      "source": [
        "df_pq = concat('*.xlsx')\n",
        "df_discentes = concat('discente/*.xlsx')\n",
        "df_docentes = concat('docente/*.xlsx')\n",
        " "
      ],
      "execution_count": 138,
      "outputs": [
        {
          "output_type": "stream",
          "text": [
            "Unindo arquivos:\n",
            "cnpq_2002-2019_pq_com_sexo.xlsx\n"
          ],
          "name": "stdout"
        },
        {
          "output_type": "display_data",
          "data": {
            "application/vnd.jupyter.widget-view+json": {
              "model_id": "1caf0faf5bca4a569817a1a96ba02ebb",
              "version_minor": 0,
              "version_major": 2
            },
            "text/plain": [
              "HBox(children=(FloatProgress(value=0.0, max=1.0), HTML(value='')))"
            ]
          },
          "metadata": {
            "tags": []
          }
        },
        {
          "output_type": "stream",
          "text": [
            "\n",
            "Unindo arquivos:\n",
            "discente/br-capes-colsucup-discentes-2013a2016-2020-06-12_2013.xlsx\n",
            "    -discente/br-capes-colsucup-discentes-2013a2016-2020-06-12_2016.xlsx\n",
            "    -discente/br-capes-colsucup-discentes-2013a2016-2020-06-12_2015.xlsx\n",
            "    -discente/br-capes-colsucup-discentes-2013a2016-2020-06-12_2014.xlsx\n"
          ],
          "name": "stdout"
        },
        {
          "output_type": "display_data",
          "data": {
            "application/vnd.jupyter.widget-view+json": {
              "model_id": "6a17497ca4c64ea4b8eb6c8012aff61f",
              "version_minor": 0,
              "version_major": 2
            },
            "text/plain": [
              "HBox(children=(FloatProgress(value=0.0, max=4.0), HTML(value='')))"
            ]
          },
          "metadata": {
            "tags": []
          }
        },
        {
          "output_type": "stream",
          "text": [
            "/usr/local/lib/python3.6/dist-packages/IPython/core/interactiveshell.py:2822: DtypeWarning: Columns (5) have mixed types.Specify dtype option on import or set low_memory=False.\n",
            "  if self.run_code(code, result):\n"
          ],
          "name": "stderr"
        },
        {
          "output_type": "stream",
          "text": [
            "\n",
            "Unindo arquivos:\n",
            "docente/br-capes-colsucup-docente-2018-2020-06-12.xlsx\n",
            "    -docente/br-capes-colsucup-docente-2013a2016-2020-06-12_2014.xlsx\n",
            "    -docente/br-capes-colsucup-docente-2013a2016-2020-06-12_2013.xlsx\n",
            "    -docente/br-capes-colsucup-curso-2017-2020-06-12.xlsx\n",
            "    -docente/br-capes-colsucup-docente-2013a2016-2020-06-12_2016.xlsx\n",
            "    -docente/br-capes-colsucup-docente-2013a2016-2020-06-12_2015.xlsx\n"
          ],
          "name": "stdout"
        },
        {
          "output_type": "display_data",
          "data": {
            "application/vnd.jupyter.widget-view+json": {
              "model_id": "377392a62a1840f4afb3a29f86f9891a",
              "version_minor": 0,
              "version_major": 2
            },
            "text/plain": [
              "HBox(children=(FloatProgress(value=0.0, max=6.0), HTML(value='')))"
            ]
          },
          "metadata": {
            "tags": []
          }
        },
        {
          "output_type": "stream",
          "text": [
            "/usr/local/lib/python3.6/dist-packages/IPython/core/interactiveshell.py:2822: DtypeWarning: Columns (9) have mixed types.Specify dtype option on import or set low_memory=False.\n",
            "  if self.run_code(code, result):\n"
          ],
          "name": "stderr"
        },
        {
          "output_type": "stream",
          "text": [
            "\n"
          ],
          "name": "stdout"
        }
      ]
    },
    {
      "cell_type": "code",
      "metadata": {
        "id": "8NxKRTyZ2hPE",
        "colab_type": "code",
        "colab": {
          "base_uri": "https://localhost:8080/",
          "height": 85
        },
        "outputId": "bc0b47bc-f573-42fc-f7a3-05d76224ffcf"
      },
      "source": [
        "df_pq['Grande Área'].unique()"
      ],
      "execution_count": 150,
      "outputs": [
        {
          "output_type": "execute_result",
          "data": {
            "text/plain": [
              "array(['Lingüística, Letras e Artes', 'Ciências Exatas e da Terra',\n",
              "       'Ciências Biológicas', 'Ciências Humanas', 'Engenharias',\n",
              "       'Ciências Agrárias', 'Ciências da Saúde',\n",
              "       'Ciências Sociais Aplicadas', 'Outra', 'Indefinido'], dtype=object)"
            ]
          },
          "metadata": {
            "tags": []
          },
          "execution_count": 150
        }
      ]
    },
    {
      "cell_type": "code",
      "metadata": {
        "id": "FxSSB1CV_XsD",
        "colab_type": "code",
        "colab": {}
      },
      "source": [
        "%matplotlib inline\n",
        "\n",
        "import matplotlib\n",
        "import numpy as np\n",
        "import matplotlib.pyplot as plt\n",
        "from matplotlib.ticker import MaxNLocator\n",
        "\n",
        "def por_ano(df, grau='PQ - Produtividade em Pesquisa'):\n",
        "  fig,ax = plt.subplots(figsize=(15, 10))\n",
        "\n",
        "  if 'TP_SEXO_DOCENTE' in df.columns:\n",
        "    coluna_sexo = 'TP_SEXO_DOCENTE'\n",
        "    coluna_grau = 'NM_GRAU_PROGRAMA'\n",
        "    categoria = 'docentes'\n",
        "    coluna_grande_area = 'NM_GRANDE_AREA_CONHECIMENTO'\n",
        "    valor_masculino = 'MASCULINO'\n",
        "    valor_feminino = 'FEMININO'\n",
        "    coluna_ano = 'AN_BASE'\n",
        "\n",
        "  if 'TP_SEXO_DISCENTE' in df.columns:\n",
        "    coluna_sexo = 'TP_SEXO_DISCENTE'\n",
        "    coluna_grau = 'NM_GRAU_PROGRAMA'\n",
        "    categoria = 'discentes'\n",
        "    coluna_grande_area = 'NM_GRANDE_AREA_CONHECIMENTO'\n",
        "    valor_masculino = 'MASCULINO'\n",
        "    valor_feminino = 'FEMININO'\n",
        "    coluna_ano = 'AN_BASE'\n",
        "\n",
        "  if 'Beneficiário' in df.columns:\n",
        "    coluna_sexo = 'sexo'\n",
        "    coluna_grau = 'Modalidade'\n",
        "    categoria = 'pesquisa'\n",
        "    coluna_grande_area = 'Grande Área'\n",
        "    valor_masculino = 'M'\n",
        "    valor_feminino = 'F'\n",
        "    coluna_ano = 'Ano Referência'\n",
        "\n",
        "  width = 0.35\n",
        "  sexos = [valor_masculino, valor_feminino]\n",
        "\n",
        "  df[coluna_ano] = pd.to_numeric(df[coluna_ano], downcast='integer')\n",
        "\n",
        "  for sexo in sexos:\n",
        "    df_filtrado_total = df[((df[coluna_grande_area].str.lower() == 'engenharias')  \n",
        "                      | (df[coluna_grande_area].str.lower() == 'ciências exatas e da terra')) \n",
        "                      & (df[coluna_grau] == grau)]\n",
        "    \n",
        "    df_filtrado = df[((df[coluna_grande_area].str.lower() == 'engenharias')  \n",
        "                      | (df[coluna_grande_area].str.lower() == 'ciências exatas e da terra')) \n",
        "                      & (df[coluna_sexo] == sexo)\n",
        "                      & (df[coluna_grau] == grau)]\n",
        "    \n",
        "    \n",
        "    series = df_filtrado.groupby(coluna_ano)[coluna_ano].count()\n",
        "    series_total = df_filtrado_total.groupby(coluna_ano)[coluna_ano].count()\n",
        "\n",
        "    series = series / series_total * 100\n",
        "\n",
        "    if sexo == valor_masculino:\n",
        "      ax.bar(series.index - width/2, series, width, label='MASCULINO')\n",
        "    else:\n",
        "      ax.bar(series.index + width/2, series, width, label='FEMININO')\n",
        "\n",
        "  plt.title('Número de bolsas de {grau} na área de exatas para {categoria}'.format(grau=grau.lower(), categoria=categoria))\n",
        "  ax.grid(True)\n",
        "  ax.set_xlabel(\"Ano\")\n",
        "  ax.set_ylim([0,100])\n",
        "  ax.set_ylabel(\"Número de bolsas de {grau} na área de exatas\".format(grau=grau.lower()))\n",
        "  ax.legend(loc='upper right')\n",
        "\n",
        "  ax.xaxis.set_major_locator(MaxNLocator(integer=True))"
      ],
      "execution_count": 201,
      "outputs": []
    },
    {
      "cell_type": "code",
      "metadata": {
        "id": "b_yaJT6jIt6U",
        "colab_type": "code",
        "colab": {}
      },
      "source": [
        "def por_curso(df, grau='PQ - Produtividade em Pesquisa'):\n",
        "\n",
        "  if 'TP_SEXO_DOCENTE' in df.columns:\n",
        "    coluna_sexo = 'TP_SEXO_DOCENTE'\n",
        "    coluna_grau = 'NM_GRAU_PROGRAMA'\n",
        "    categoria = 'docentes'\n",
        "    coluna_grande_area = 'NM_GRANDE_AREA_CONHECIMENTO'\n",
        "    valor_masculino = 'MASCULINO'\n",
        "    valor_feminino = 'FEMININO'\n",
        "    coluna_ano = 'AN_BASE'\n",
        "\n",
        "  if 'TP_SEXO_DISCENTE' in df.columns:\n",
        "    coluna_sexo = 'TP_SEXO_DISCENTE'\n",
        "    coluna_grau = 'NM_GRAU_PROGRAMA'\n",
        "    categoria = 'discentes'\n",
        "    coluna_grande_area = 'NM_GRANDE_AREA_CONHECIMENTO'\n",
        "    valor_masculino = 'MASCULINO'\n",
        "    valor_feminino = 'FEMININO'\n",
        "    coluna_ano = 'AN_BASE'\n",
        "\n",
        "  if 'Beneficiário' in df.columns:\n",
        "    coluna_sexo = 'sexo'\n",
        "    coluna_grau = 'Modalidade'\n",
        "    categoria = 'PQ - Produtividade em Pesquisa'\n",
        "    coluna_grande_area = 'Grande Área'\n",
        "    valor_masculino = 'M'\n",
        "    valor_feminino = 'F'\n",
        "    coluna_ano = 'Ano Referência'\n",
        "\n",
        "  df_filtrado = df[df[coluna_grau] == grau]\n",
        "\n",
        "  areas = df[coluna_grande_area].unique()\n",
        "  values_m = []\n",
        "  values_f = []\n",
        "\n",
        "  def obtem_numero(sexo, area):\n",
        "    total = len(df_filtrado[df_filtrado[coluna_grande_area] == area])\n",
        "    para_o_sexo = len(df_filtrado[(df_filtrado[coluna_sexo] == sexo)\n",
        "                                    & (df_filtrado[coluna_grande_area] == area)])\n",
        "  \n",
        "    return para_o_sexo / total * 100.0\n",
        "\n",
        "  for area in areas:\n",
        "    values_m.append(obtem_numero(valor_masculino, area))\n",
        "    values_f.append(obtem_numero(valor_feminino, area))\n",
        "    \n",
        "  df = pd.DataFrame({'MASCULUNO': values_m, 'FEMINIMO': values_f}, index=areas)\n",
        "  ax = df.plot.bar(figsize=(15, 10), title='Percentual de bolsas de {grau} por grande área de conhecimento para {categoria}'\n",
        "        .format(grau=grau.lower(), categoria=categoria))\n",
        "  ax.grid(True)\n",
        "  ax.set_xlabel(\"Grande área de conhecimento\")\n",
        "  ax.set_ylim([0,100])\n",
        "  ax.set_ylabel(\"Percentual de bolsas de {grau} para {categoria}\".format(grau=grau.lower(), categoria=categoria))\n",
        "  ax.legend(loc='upper right')\n",
        "\n",
        "  for p in ax.patches:\n",
        "    ax.annotate(str(int(p.get_height())) + '%', (p.get_x() * 1.005, p.get_height() * 1.005))"
      ],
      "execution_count": 202,
      "outputs": []
    },
    {
      "cell_type": "code",
      "metadata": {
        "id": "wFjQvki55UQA",
        "colab_type": "code",
        "colab": {
          "base_uri": "https://localhost:8080/",
          "height": 1000
        },
        "outputId": "718039c6-1a26-4fe6-a9b7-32a0a3b2b9f1"
      },
      "source": [
        "por_ano(df_pq)\n",
        "# por_ano(df_discentes, 'MESTRADO')\n",
        "# por_ano(df_discentes, 'DOUTORADO')\n",
        "# por_ano(df_docentes, grau='MESTRADO')\n",
        "# por_ano(df_docentes, grau='DOUTORADO')\n",
        "\n",
        "por_curso(df_pq)\n",
        "por_curso(df_discentes, grau='MESTRADO')\n",
        "# por_curso(df_discentes, grau='DOUTORADO')\n",
        "# por_curso(df_docentes, grau='MESTRADO')\n",
        "# por_curso(df_docentes, grau='DOUTORADO')\n",
        "\n"
      ],
      "execution_count": 203,
      "outputs": [
        {
          "output_type": "display_data",
          "data": {
            "image/png": "[encoded data removed]",
            "text/plain": [
              "<Figure size 1080x720 with 1 Axes>"
            ]
          },
          "metadata": {
            "tags": [],
            "needs_background": "light"
          }
        },
        {
          "output_type": "display_data",
          "data": {
            "image/png": "[encoded data removed]",
            "text/plain": [
              "<Figure size 1080x720 with 1 Axes>"
            ]
          },
          "metadata": {
            "tags": [],
            "needs_background": "light"
          }
        },
        {
          "output_type": "display_data",
          "data": {
            "image/png": "[encoded data removed]",
            "text/plain": [
              "<Figure size 1080x720 with 1 Axes>"
            ]
          },
          "metadata": {
            "tags": [],
            "needs_background": "light"
          }
        }
      ]
    },
    {
      "cell_type": "code",
      "metadata": {
        "id": "YSWpjDlUCn94",
        "colab_type": "code",
        "colab": {}
      },
      "source": [
        ""
      ],
      "execution_count": null,
      "outputs": []
    }
  ]
}